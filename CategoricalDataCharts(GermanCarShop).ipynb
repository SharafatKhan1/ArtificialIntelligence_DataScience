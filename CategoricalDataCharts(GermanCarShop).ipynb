{
  "nbformat": 4,
  "nbformat_minor": 0,
  "metadata": {
    "colab": {
      "name": "CategoricalDataCharts(GermanCarShop).ipynb",
      "provenance": [],
      "collapsed_sections": [],
      "toc_visible": true,
      "authorship_tag": "ABX9TyNDazsp3utmibA0wHiIrc7w",
      "include_colab_link": true
    },
    "kernelspec": {
      "name": "python3",
      "display_name": "Python 3"
    }
  },
  "cells": [
    {
      "cell_type": "markdown",
      "metadata": {
        "id": "view-in-github",
        "colab_type": "text"
      },
      "source": [
        "<a href=\"https://colab.research.google.com/github/SharafatKhan1/ArtificialIntelligence_DataScience/blob/master/CategoricalDataCharts(GermanCarShop).ipynb\" target=\"_parent\"><img src=\"https://colab.research.google.com/assets/colab-badge.svg\" alt=\"Open In Colab\"/></a>"
      ]
    },
    {
      "cell_type": "code",
      "metadata": {
        "id": "B8Mi40lzG8zp"
      },
      "source": [
        "import pandas as pd\r\n",
        "import numpy as np\r\n",
        "import matplotlib.pyplot as plt"
      ],
      "execution_count": null,
      "outputs": []
    },
    {
      "cell_type": "markdown",
      "metadata": {
        "id": "NUMiFk7k4nDB"
      },
      "source": [
        "# Assignment # 01"
      ]
    },
    {
      "cell_type": "code",
      "metadata": {
        "id": "tWXF1qsnApAu",
        "colab": {
          "base_uri": "https://localhost:8080/"
        },
        "outputId": "c53b78ea-c3f6-4164-e7a6-86c218f63cde"
      },
      "source": [
        "germanCarShop = {\"Cars\": [\"Audi\", \"BMW\", \"Mercedes\"], \"Frequency\": [124, 98, 113]}\r\n",
        "germanCarShop"
      ],
      "execution_count": null,
      "outputs": [
        {
          "output_type": "execute_result",
          "data": {
            "text/plain": [
              "{'Cars': ['Audi', 'BMW', 'Mercedes'], 'Frequency': [124, 98, 113]}"
            ]
          },
          "metadata": {
            "tags": []
          },
          "execution_count": 3
        }
      ]
    },
    {
      "cell_type": "code",
      "metadata": {
        "colab": {
          "base_uri": "https://localhost:8080/",
          "height": 136
        },
        "id": "QCQ5UPa3HF6R",
        "outputId": "e01dbc88-9845-4ed3-edb9-b936711bc679"
      },
      "source": [
        "gcsDataFrame = pd.DataFrame(germanCarShop)\r\n",
        "gcsDataFrame"
      ],
      "execution_count": null,
      "outputs": [
        {
          "output_type": "execute_result",
          "data": {
            "text/html": [
              "<div>\n",
              "<style scoped>\n",
              "    .dataframe tbody tr th:only-of-type {\n",
              "        vertical-align: middle;\n",
              "    }\n",
              "\n",
              "    .dataframe tbody tr th {\n",
              "        vertical-align: top;\n",
              "    }\n",
              "\n",
              "    .dataframe thead th {\n",
              "        text-align: right;\n",
              "    }\n",
              "</style>\n",
              "<table border=\"1\" class=\"dataframe\">\n",
              "  <thead>\n",
              "    <tr style=\"text-align: right;\">\n",
              "      <th></th>\n",
              "      <th>Cars</th>\n",
              "      <th>Frequency</th>\n",
              "    </tr>\n",
              "  </thead>\n",
              "  <tbody>\n",
              "    <tr>\n",
              "      <th>0</th>\n",
              "      <td>Audi</td>\n",
              "      <td>124</td>\n",
              "    </tr>\n",
              "    <tr>\n",
              "      <th>1</th>\n",
              "      <td>BMW</td>\n",
              "      <td>98</td>\n",
              "    </tr>\n",
              "    <tr>\n",
              "      <th>2</th>\n",
              "      <td>Mercedes</td>\n",
              "      <td>113</td>\n",
              "    </tr>\n",
              "  </tbody>\n",
              "</table>\n",
              "</div>"
            ],
            "text/plain": [
              "       Cars  Frequency\n",
              "0      Audi        124\n",
              "1       BMW         98\n",
              "2  Mercedes        113"
            ]
          },
          "metadata": {
            "tags": []
          },
          "execution_count": 4
        }
      ]
    },
    {
      "cell_type": "code",
      "metadata": {
        "colab": {
          "base_uri": "https://localhost:8080/",
          "height": 166
        },
        "id": "eafcrmgqI7Yu",
        "outputId": "947faeeb-1923-485b-ddf8-d0da2f63e62e"
      },
      "source": [
        "gcsDataFrame.append({\"Cars\": \"Total\", \"Frequency\": gcsDataFrame[\"Frequency\"].sum()}, ignore_index=True)"
      ],
      "execution_count": null,
      "outputs": [
        {
          "output_type": "execute_result",
          "data": {
            "text/html": [
              "<div>\n",
              "<style scoped>\n",
              "    .dataframe tbody tr th:only-of-type {\n",
              "        vertical-align: middle;\n",
              "    }\n",
              "\n",
              "    .dataframe tbody tr th {\n",
              "        vertical-align: top;\n",
              "    }\n",
              "\n",
              "    .dataframe thead th {\n",
              "        text-align: right;\n",
              "    }\n",
              "</style>\n",
              "<table border=\"1\" class=\"dataframe\">\n",
              "  <thead>\n",
              "    <tr style=\"text-align: right;\">\n",
              "      <th></th>\n",
              "      <th>Cars</th>\n",
              "      <th>Frequency</th>\n",
              "    </tr>\n",
              "  </thead>\n",
              "  <tbody>\n",
              "    <tr>\n",
              "      <th>0</th>\n",
              "      <td>Audi</td>\n",
              "      <td>124</td>\n",
              "    </tr>\n",
              "    <tr>\n",
              "      <th>1</th>\n",
              "      <td>BMW</td>\n",
              "      <td>98</td>\n",
              "    </tr>\n",
              "    <tr>\n",
              "      <th>2</th>\n",
              "      <td>Mercedes</td>\n",
              "      <td>113</td>\n",
              "    </tr>\n",
              "    <tr>\n",
              "      <th>3</th>\n",
              "      <td>Total</td>\n",
              "      <td>335</td>\n",
              "    </tr>\n",
              "  </tbody>\n",
              "</table>\n",
              "</div>"
            ],
            "text/plain": [
              "       Cars  Frequency\n",
              "0      Audi        124\n",
              "1       BMW         98\n",
              "2  Mercedes        113\n",
              "3     Total        335"
            ]
          },
          "metadata": {
            "tags": []
          },
          "execution_count": 5
        }
      ]
    },
    {
      "cell_type": "code",
      "metadata": {
        "colab": {
          "base_uri": "https://localhost:8080/",
          "height": 281
        },
        "id": "t7-zK3mPKvth",
        "outputId": "c58399c1-3108-463b-9c27-77749edfe8cc"
      },
      "source": [
        "plt.bar(gcsDataFrame[\"Cars\"], gcsDataFrame[\"Frequency\"])\r\n",
        "plt.title(\"German Car Shop\")\r\n",
        "plt.ylabel(\"Frequency\")\r\n",
        "plt.show()"
      ],
      "execution_count": null,
      "outputs": [
        {
          "output_type": "display_data",
          "data": {
            "image/png": "[encoded data removed]",
            "text/plain": [
              "<Figure size 432x288 with 1 Axes>"
            ]
          },
          "metadata": {
            "tags": [],
            "needs_background": "light"
          }
        }
      ]
    },
    {
      "cell_type": "code",
      "metadata": {
        "colab": {
          "base_uri": "https://localhost:8080/",
          "height": 300
        },
        "id": "WgbuY5bSOFDw",
        "outputId": "496bc9c7-de0e-4134-9081-5ef337424e5c"
      },
      "source": [
        "plt.pie(gcsDataFrame[\"Frequency\"], labels=gcsDataFrame[\"Cars\"], autopct=\"%0.0f%%\", radius=1.5, explode=[0, 0.08, 0], shadow=True)\r\n",
        "plt.show()"
      ],
      "execution_count": null,
      "outputs": [
        {
          "output_type": "display_data",
          "data": {
            "image/png": "[encoded data removed]",
            "text/plain": [
              "<Figure size 432x288 with 1 Axes>"
            ]
          },
          "metadata": {
            "tags": []
          }
        }
      ]
    },
    {
      "cell_type": "code",
      "metadata": {
        "id": "Qag89MKbeIwk"
      },
      "source": [
        ""
      ],
      "execution_count": null,
      "outputs": []
    },
    {
      "cell_type": "markdown",
      "metadata": {
        "id": "688I6RiA4fBb"
      },
      "source": [
        "# Assignment # 02"
      ]
    },
    {
      "cell_type": "code",
      "metadata": {
        "colab": {
          "base_uri": "https://localhost:8080/"
        },
        "id": "u6q44J3T4j_g",
        "outputId": "45bb142d-2716-4226-c5f9-c1a0e931c7fe"
      },
      "source": [
        "iceCreamShop = {\"\":[\"New York\", \"LA\", \"San Francisco\"], \"Frequency\": [12327, 17129, 19923]}\r\n",
        "print(iceCreamShop)"
      ],
      "execution_count": null,
      "outputs": [
        {
          "output_type": "stream",
          "text": [
            "{'': ['New York', 'LA', 'San Francisco'], 'Frequency': [12327, 17129, 19923]}\n"
          ],
          "name": "stdout"
        }
      ]
    },
    {
      "cell_type": "code",
      "metadata": {
        "colab": {
          "base_uri": "https://localhost:8080/",
          "height": 136
        },
        "id": "io71hqgU5h4a",
        "outputId": "e549e75c-8005-4917-bd18-fa37c3f1fc03"
      },
      "source": [
        "icsDataFrame = pd.DataFrame(iceCreamShop)\r\n",
        "icsDataFrame"
      ],
      "execution_count": null,
      "outputs": [
        {
          "output_type": "execute_result",
          "data": {
            "text/html": [
              "<div>\n",
              "<style scoped>\n",
              "    .dataframe tbody tr th:only-of-type {\n",
              "        vertical-align: middle;\n",
              "    }\n",
              "\n",
              "    .dataframe tbody tr th {\n",
              "        vertical-align: top;\n",
              "    }\n",
              "\n",
              "    .dataframe thead th {\n",
              "        text-align: right;\n",
              "    }\n",
              "</style>\n",
              "<table border=\"1\" class=\"dataframe\">\n",
              "  <thead>\n",
              "    <tr style=\"text-align: right;\">\n",
              "      <th></th>\n",
              "      <th></th>\n",
              "      <th>Frequency</th>\n",
              "    </tr>\n",
              "  </thead>\n",
              "  <tbody>\n",
              "    <tr>\n",
              "      <th>0</th>\n",
              "      <td>New York</td>\n",
              "      <td>12327</td>\n",
              "    </tr>\n",
              "    <tr>\n",
              "      <th>1</th>\n",
              "      <td>LA</td>\n",
              "      <td>17129</td>\n",
              "    </tr>\n",
              "    <tr>\n",
              "      <th>2</th>\n",
              "      <td>San Francisco</td>\n",
              "      <td>19923</td>\n",
              "    </tr>\n",
              "  </tbody>\n",
              "</table>\n",
              "</div>"
            ],
            "text/plain": [
              "                  Frequency\n",
              "0       New York      12327\n",
              "1             LA      17129\n",
              "2  San Francisco      19923"
            ]
          },
          "metadata": {
            "tags": []
          },
          "execution_count": 17
        }
      ]
    },
    {
      "cell_type": "code",
      "metadata": {
        "colab": {
          "base_uri": "https://localhost:8080/",
          "height": 166
        },
        "id": "D7JPb1496Cdf",
        "outputId": "5d1c1b93-5d0d-4527-a605-1ce485d43223"
      },
      "source": [
        "icsDataFrame.append({\"\": \"Total\", \"Frequency\": icsDataFrame[\"Frequency\"].sum()}, ignore_index=True)"
      ],
      "execution_count": null,
      "outputs": [
        {
          "output_type": "execute_result",
          "data": {
            "text/html": [
              "<div>\n",
              "<style scoped>\n",
              "    .dataframe tbody tr th:only-of-type {\n",
              "        vertical-align: middle;\n",
              "    }\n",
              "\n",
              "    .dataframe tbody tr th {\n",
              "        vertical-align: top;\n",
              "    }\n",
              "\n",
              "    .dataframe thead th {\n",
              "        text-align: right;\n",
              "    }\n",
              "</style>\n",
              "<table border=\"1\" class=\"dataframe\">\n",
              "  <thead>\n",
              "    <tr style=\"text-align: right;\">\n",
              "      <th></th>\n",
              "      <th></th>\n",
              "      <th>Frequency</th>\n",
              "    </tr>\n",
              "  </thead>\n",
              "  <tbody>\n",
              "    <tr>\n",
              "      <th>0</th>\n",
              "      <td>New York</td>\n",
              "      <td>12327</td>\n",
              "    </tr>\n",
              "    <tr>\n",
              "      <th>1</th>\n",
              "      <td>LA</td>\n",
              "      <td>17129</td>\n",
              "    </tr>\n",
              "    <tr>\n",
              "      <th>2</th>\n",
              "      <td>San Francisco</td>\n",
              "      <td>19923</td>\n",
              "    </tr>\n",
              "    <tr>\n",
              "      <th>3</th>\n",
              "      <td>Total</td>\n",
              "      <td>49379</td>\n",
              "    </tr>\n",
              "  </tbody>\n",
              "</table>\n",
              "</div>"
            ],
            "text/plain": [
              "                  Frequency\n",
              "0       New York      12327\n",
              "1             LA      17129\n",
              "2  San Francisco      19923\n",
              "3          Total      49379"
            ]
          },
          "metadata": {
            "tags": []
          },
          "execution_count": 18
        }
      ]
    },
    {
      "cell_type": "code",
      "metadata": {
        "colab": {
          "base_uri": "https://localhost:8080/",
          "height": 281
        },
        "id": "UjG4ss6M6gMX",
        "outputId": "0f89569b-824c-48ed-8806-0b70564eaef4"
      },
      "source": [
        "plt.bar(icsDataFrame[\"\"], icsDataFrame[\"Frequency\"])\r\n",
        "plt.title(\"Ice Cream Shop\")\r\n",
        "plt.ylabel(\"Frequency\")\r\n",
        "plt.show()"
      ],
      "execution_count": null,
      "outputs": [
        {
          "output_type": "display_data",
          "data": {
            "image/png": "[encoded data removed]",
            "text/plain": [
              "<Figure size 432x288 with 1 Axes>"
            ]
          },
          "metadata": {
            "tags": [],
            "needs_background": "light"
          }
        }
      ]
    },
    {
      "cell_type": "code",
      "metadata": {
        "colab": {
          "base_uri": "https://localhost:8080/",
          "height": 295
        },
        "id": "mBAHP6Jm9D_u",
        "outputId": "e911ae01-6cb7-4113-f838-6fe0b589c7c2"
      },
      "source": [
        "plt.barh(iceCreamShop[\"\"], iceCreamShop[\"Frequency\"])\r\n",
        "plt.title(\"Ice Cream Shop (Bar Horizontal)\")\r\n",
        "plt.xlabel(\"Frequency\")\r\n",
        "plt.show()"
      ],
      "execution_count": null,
      "outputs": [
        {
          "output_type": "display_data",
          "data": {
            "image/png": "[encoded data removed]",
            "text/plain": [
              "<Figure size 432x288 with 1 Axes>"
            ]
          },
          "metadata": {
            "tags": [],
            "needs_background": "light"
          }
        }
      ]
    },
    {
      "cell_type": "code",
      "metadata": {
        "colab": {
          "base_uri": "https://localhost:8080/",
          "height": 309
        },
        "id": "KFrolvXNETzF",
        "outputId": "a12286ab-2b26-4892-95f9-e86a66d0f02e"
      },
      "source": [
        "plt.pie(x=iceCreamShop[\"Frequency\"], labels=iceCreamShop[\"\"], radius=1.5, autopct=\"%0.0f%%\", explode=[0.04, 0.04, 0.04], shadow=True, startangle =0)\r\n",
        "plt.show()"
      ],
      "execution_count": null,
      "outputs": [
        {
          "output_type": "display_data",
          "data": {
            "image/png": "[encoded data removed]",
            "text/plain": [
              "<Figure size 432x288 with 1 Axes>"
            ]
          },
          "metadata": {
            "tags": []
          }
        }
      ]
    },
    {
      "cell_type": "markdown",
      "metadata": {
        "id": "H3ybGd-0L1us"
      },
      "source": [
        "# Assignment # 03"
      ]
    },
    {
      "cell_type": "code",
      "metadata": {
        "colab": {
          "base_uri": "https://localhost:8080/"
        },
        "id": "WhSRJKPZL5sc",
        "outputId": "a642b13e-8026-4e9b-92a6-24092f8da798"
      },
      "source": [
        "investment = {\"Type Of Investment\\Investor\": [\"Stock\", \"Bonds\", \"Real State\"], \"Investor A\": [96, 181, 88], \"Investor B\": [185, 3, 152], \"Investor C\": [39, 29, 142]}\r\n",
        "investment"
      ],
      "execution_count": null,
      "outputs": [
        {
          "output_type": "execute_result",
          "data": {
            "text/plain": [
              "{'Investor A': [96, 181, 88],\n",
              " 'Investor B': [185, 3, 152],\n",
              " 'Investor C': [39, 29, 142],\n",
              " 'Type Of Investment\\\\Investor': ['Stock', 'Bonds', 'Real State']}"
            ]
          },
          "metadata": {
            "tags": []
          },
          "execution_count": 127
        }
      ]
    },
    {
      "cell_type": "code",
      "metadata": {
        "colab": {
          "base_uri": "https://localhost:8080/",
          "height": 136
        },
        "id": "petA5QVTMxy8",
        "outputId": "adaa88d6-3aae-43e1-e42f-02e6aa2edc6e"
      },
      "source": [
        "investDataFrame = pd.DataFrame(investment)\r\n",
        "investDataFrame"
      ],
      "execution_count": null,
      "outputs": [
        {
          "output_type": "execute_result",
          "data": {
            "text/html": [
              "<div>\n",
              "<style scoped>\n",
              "    .dataframe tbody tr th:only-of-type {\n",
              "        vertical-align: middle;\n",
              "    }\n",
              "\n",
              "    .dataframe tbody tr th {\n",
              "        vertical-align: top;\n",
              "    }\n",
              "\n",
              "    .dataframe thead th {\n",
              "        text-align: right;\n",
              "    }\n",
              "</style>\n",
              "<table border=\"1\" class=\"dataframe\">\n",
              "  <thead>\n",
              "    <tr style=\"text-align: right;\">\n",
              "      <th></th>\n",
              "      <th>Type Of Investment\\Investor</th>\n",
              "      <th>Investor A</th>\n",
              "      <th>Investor B</th>\n",
              "      <th>Investor C</th>\n",
              "    </tr>\n",
              "  </thead>\n",
              "  <tbody>\n",
              "    <tr>\n",
              "      <th>0</th>\n",
              "      <td>Stock</td>\n",
              "      <td>96</td>\n",
              "      <td>185</td>\n",
              "      <td>39</td>\n",
              "    </tr>\n",
              "    <tr>\n",
              "      <th>1</th>\n",
              "      <td>Bonds</td>\n",
              "      <td>181</td>\n",
              "      <td>3</td>\n",
              "      <td>29</td>\n",
              "    </tr>\n",
              "    <tr>\n",
              "      <th>2</th>\n",
              "      <td>Real State</td>\n",
              "      <td>88</td>\n",
              "      <td>152</td>\n",
              "      <td>142</td>\n",
              "    </tr>\n",
              "  </tbody>\n",
              "</table>\n",
              "</div>"
            ],
            "text/plain": [
              "  Type Of Investment\\Investor  Investor A  Investor B  Investor C\n",
              "0                       Stock          96         185          39\n",
              "1                       Bonds         181           3          29\n",
              "2                  Real State          88         152         142"
            ]
          },
          "metadata": {
            "tags": []
          },
          "execution_count": 128
        }
      ]
    },
    {
      "cell_type": "code",
      "metadata": {
        "colab": {
          "base_uri": "https://localhost:8080/",
          "height": 166
        },
        "id": "WHK_68ltNEog",
        "outputId": "912ad244-55b4-414d-838e-e1aa9cb4ffd1"
      },
      "source": [
        "investDataFrame.append({\"Type Of Investment\\Investor\": \"Total\", \"Investor A\": investDataFrame[\"Investor A\"].sum(), \"Investor B\": investDataFrame[\"Investor B\"].sum(), \"Investor C\": investDataFrame[\"Investor C\"].sum()}, ignore_index=True)"
      ],
      "execution_count": null,
      "outputs": [
        {
          "output_type": "execute_result",
          "data": {
            "text/html": [
              "<div>\n",
              "<style scoped>\n",
              "    .dataframe tbody tr th:only-of-type {\n",
              "        vertical-align: middle;\n",
              "    }\n",
              "\n",
              "    .dataframe tbody tr th {\n",
              "        vertical-align: top;\n",
              "    }\n",
              "\n",
              "    .dataframe thead th {\n",
              "        text-align: right;\n",
              "    }\n",
              "</style>\n",
              "<table border=\"1\" class=\"dataframe\">\n",
              "  <thead>\n",
              "    <tr style=\"text-align: right;\">\n",
              "      <th></th>\n",
              "      <th>Type Of Investment\\Investor</th>\n",
              "      <th>Investor A</th>\n",
              "      <th>Investor B</th>\n",
              "      <th>Investor C</th>\n",
              "    </tr>\n",
              "  </thead>\n",
              "  <tbody>\n",
              "    <tr>\n",
              "      <th>0</th>\n",
              "      <td>Stock</td>\n",
              "      <td>96</td>\n",
              "      <td>185</td>\n",
              "      <td>39</td>\n",
              "    </tr>\n",
              "    <tr>\n",
              "      <th>1</th>\n",
              "      <td>Bonds</td>\n",
              "      <td>181</td>\n",
              "      <td>3</td>\n",
              "      <td>29</td>\n",
              "    </tr>\n",
              "    <tr>\n",
              "      <th>2</th>\n",
              "      <td>Real State</td>\n",
              "      <td>88</td>\n",
              "      <td>152</td>\n",
              "      <td>142</td>\n",
              "    </tr>\n",
              "    <tr>\n",
              "      <th>3</th>\n",
              "      <td>Total</td>\n",
              "      <td>365</td>\n",
              "      <td>340</td>\n",
              "      <td>210</td>\n",
              "    </tr>\n",
              "  </tbody>\n",
              "</table>\n",
              "</div>"
            ],
            "text/plain": [
              "  Type Of Investment\\Investor  Investor A  Investor B  Investor C\n",
              "0                       Stock          96         185          39\n",
              "1                       Bonds         181           3          29\n",
              "2                  Real State          88         152         142\n",
              "3                       Total         365         340         210"
            ]
          },
          "metadata": {
            "tags": []
          },
          "execution_count": 129
        }
      ]
    },
    {
      "cell_type": "code",
      "metadata": {
        "colab": {
          "base_uri": "https://localhost:8080/"
        },
        "id": "hNc1FywxOOXi",
        "outputId": "83bee33b-1f22-4fa7-e7c9-0bcd03c9cbd2"
      },
      "source": [
        "w= 0.4\r\n",
        "bar1 = np.arange(len(investDataFrame[\"Type Of Investment\\Investor\"]))\r\n",
        "bar1"
      ],
      "execution_count": null,
      "outputs": [
        {
          "output_type": "execute_result",
          "data": {
            "text/plain": [
              "array([0, 1, 2])"
            ]
          },
          "metadata": {
            "tags": []
          },
          "execution_count": 231
        }
      ]
    },
    {
      "cell_type": "code",
      "metadata": {
        "colab": {
          "base_uri": "https://localhost:8080/"
        },
        "id": "bq-s4FH2qS2v",
        "outputId": "a83dba34-e402-4f10-ebdb-de053b67c48f"
      },
      "source": [
        "bar2 = [i + w for i in bar1]\r\n",
        "bar2"
      ],
      "execution_count": null,
      "outputs": [
        {
          "output_type": "execute_result",
          "data": {
            "text/plain": [
              "[0.4, 1.4, 2.4]"
            ]
          },
          "metadata": {
            "tags": []
          },
          "execution_count": 162
        }
      ]
    },
    {
      "cell_type": "code",
      "metadata": {
        "colab": {
          "base_uri": "https://localhost:8080/"
        },
        "id": "5P0Qo2hvr6d1",
        "outputId": "c16c8cd1-c0cc-4daa-9f40-576acc9c120c"
      },
      "source": [
        "# bar3 = [i + w for i in bar2]\r\n",
        "bar3 = [0.8, 1.8, 2.8]\r\n",
        "bar3"
      ],
      "execution_count": null,
      "outputs": [
        {
          "output_type": "execute_result",
          "data": {
            "text/plain": [
              "[0.8, 1.8, 2.8]"
            ]
          },
          "metadata": {
            "tags": []
          },
          "execution_count": 171
        }
      ]
    },
    {
      "cell_type": "code",
      "metadata": {
        "colab": {
          "base_uri": "https://localhost:8080/",
          "height": 265
        },
        "id": "sIlTM8J2PcnT",
        "outputId": "09005b51-b491-4e25-9763-748ed9a79026"
      },
      "source": [
        "plt.bar(xpos, investDataFrame[\"Investor A\"], width=0.2)\r\n",
        "plt.bar(xpos + 0.2, investDataFrame[\"Investor B\"], width=0.2)\r\n",
        "# plt.bar(xpos + 0.4, investDataFrame[\"Investor C\"], width=0.2)\r\n",
        "plt.show()"
      ],
      "execution_count": null,
      "outputs": [
        {
          "output_type": "display_data",
          "data": {
            "image/png": "[encoded data removed]",
            "text/plain": [
              "<Figure size 432x288 with 1 Axes>"
            ]
          },
          "metadata": {
            "tags": [],
            "needs_background": "light"
          }
        }
      ]
    },
    {
      "cell_type": "markdown",
      "metadata": {
        "id": "NfZWEo250TML"
      },
      "source": [
        "# Multple Bar Graph 2"
      ]
    },
    {
      "cell_type": "code",
      "metadata": {
        "id": "SazCtKJXQsWJ",
        "colab": {
          "base_uri": "https://localhost:8080/"
        },
        "outputId": "585ca78c-4861-4af3-e462-d9b637b887be"
      },
      "source": [
        "investment1 = {\"Type Of Investment\\Investor\": [\"Investor A\", \"Investor B\", \"Investor C\"], \"Stocks\": [96, 185, 39], \"Bonds\": [181, 3, 29], \"Real State\": [88, 152, 142]}\r\n",
        "investment1"
      ],
      "execution_count": null,
      "outputs": [
        {
          "output_type": "execute_result",
          "data": {
            "text/plain": [
              "{'Bonds': [181, 3, 29],\n",
              " 'Real State': [88, 152, 142],\n",
              " 'Stocks': [96, 185, 39],\n",
              " 'Type Of Investment\\\\Investor': ['Investor A', 'Investor B', 'Investor C']}"
            ]
          },
          "metadata": {
            "tags": []
          },
          "execution_count": 199
        }
      ]
    },
    {
      "cell_type": "code",
      "metadata": {
        "colab": {
          "base_uri": "https://localhost:8080/",
          "height": 141
        },
        "id": "5kTZLn2Rz1bJ",
        "outputId": "86e34e16-2a1f-418c-d662-7cd13da61675"
      },
      "source": [
        "invest1DataFrame = pd.DataFrame(investment1)\r\n",
        "invest1DataFrame"
      ],
      "execution_count": null,
      "outputs": [
        {
          "output_type": "execute_result",
          "data": {
            "text/html": [
              "<div>\n",
              "<style scoped>\n",
              "    .dataframe tbody tr th:only-of-type {\n",
              "        vertical-align: middle;\n",
              "    }\n",
              "\n",
              "    .dataframe tbody tr th {\n",
              "        vertical-align: top;\n",
              "    }\n",
              "\n",
              "    .dataframe thead th {\n",
              "        text-align: right;\n",
              "    }\n",
              "</style>\n",
              "<table border=\"1\" class=\"dataframe\">\n",
              "  <thead>\n",
              "    <tr style=\"text-align: right;\">\n",
              "      <th></th>\n",
              "      <th>Type Of Investment\\Investor</th>\n",
              "      <th>Stocks</th>\n",
              "      <th>Bonds</th>\n",
              "      <th>Real State</th>\n",
              "    </tr>\n",
              "  </thead>\n",
              "  <tbody>\n",
              "    <tr>\n",
              "      <th>0</th>\n",
              "      <td>Investor A</td>\n",
              "      <td>96</td>\n",
              "      <td>181</td>\n",
              "      <td>88</td>\n",
              "    </tr>\n",
              "    <tr>\n",
              "      <th>1</th>\n",
              "      <td>Investor B</td>\n",
              "      <td>185</td>\n",
              "      <td>3</td>\n",
              "      <td>152</td>\n",
              "    </tr>\n",
              "    <tr>\n",
              "      <th>2</th>\n",
              "      <td>Investor C</td>\n",
              "      <td>39</td>\n",
              "      <td>29</td>\n",
              "      <td>142</td>\n",
              "    </tr>\n",
              "  </tbody>\n",
              "</table>\n",
              "</div>"
            ],
            "text/plain": [
              "  Type Of Investment\\Investor  Stocks  Bonds  Real State\n",
              "0                  Investor A      96    181          88\n",
              "1                  Investor B     185      3         152\n",
              "2                  Investor C      39     29         142"
            ]
          },
          "metadata": {
            "tags": []
          },
          "execution_count": 204
        }
      ]
    },
    {
      "cell_type": "code",
      "metadata": {
        "colab": {
          "base_uri": "https://localhost:8080/"
        },
        "id": "d2nGiFIxz5WS",
        "outputId": "aebddbe5-09ed-47d0-a6b3-346a16510403"
      },
      "source": [
        "xpos = np.arange(len(invest1DataFrame[\"Type Of Investment\\Investor\"]))\r\n",
        "print(xpos)\r\n"
      ],
      "execution_count": null,
      "outputs": [
        {
          "output_type": "stream",
          "text": [
            "[0 1 2]\n"
          ],
          "name": "stdout"
        }
      ]
    },
    {
      "cell_type": "code",
      "metadata": {
        "colab": {
          "base_uri": "https://localhost:8080/",
          "height": 281
        },
        "id": "ZGhQqCKJ0uOm",
        "outputId": "49f829b4-6568-46a1-8081-471ee8b96223"
      },
      "source": [
        "plt.bar(xpos, invest1DataFrame[\"Stocks\"], width=0.2, label=\"Stocks\")\r\n",
        "plt.bar(xpos +0.2, invest1DataFrame[\"Bonds\"], width=0.2, label=\"Bonds\")\r\n",
        "plt.bar(xpos + 0.4, invest1DataFrame[\"Real State\"], width=0.2, label=\"Real State\")\r\n",
        "plt.title(\"Side By Side Bar Chart\")\r\n",
        "plt.xticks(xpos + 0.4/ 2, invest1DataFrame[\"Type Of Investment\\Investor\"])\r\n",
        "plt.legend()\r\n",
        "plt.show()"
      ],
      "execution_count": null,
      "outputs": [
        {
          "output_type": "display_data",
          "data": {
            "image/png": "[encoded data removed]",
            "text/plain": [
              "<Figure size 432x288 with 1 Axes>"
            ]
          },
          "metadata": {
            "tags": [],
            "needs_background": "light"
          }
        }
      ]
    },
    {
      "cell_type": "code",
      "metadata": {
        "id": "F9HW3yLq1HdA"
      },
      "source": [
        ""
      ],
      "execution_count": null,
      "outputs": []
    }
  ]
}